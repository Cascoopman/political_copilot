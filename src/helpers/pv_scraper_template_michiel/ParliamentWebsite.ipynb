{
 "cells": [
  {
   "cell_type": "code",
   "execution_count": 1,
   "id": "6b1fbfff",
   "metadata": {},
   "outputs": [],
   "source": [
    "import requests\n",
    "from bs4 import BeautifulSoup\n",
    "import shutil"
   ]
  },
  {
   "cell_type": "code",
   "execution_count": 2,
   "id": "5caa6167",
   "metadata": {},
   "outputs": [],
   "source": [
    "THEMA = \"natuur_en_milieu\"\n",
    "THEMA_QUERY = \"Natuur en Milieu\"\n",
    "CURRENT_YEAR_OF_OFFICE_VALUE = \"2022-2023\""
   ]
  },
  {
   "cell_type": "code",
   "execution_count": 5,
   "id": "a4193fd1",
   "metadata": {},
   "outputs": [
    {
     "name": "stdout",
     "output_type": "stream",
     "text": [
      "Card title:  Omgevingsvergunning - Adviesverlening bij vergunningsaanvragen\n",
      "Document number: 1037 (2022-2023)\n",
      "View link text: Bekijk documentenfiche\n",
      "View link href: https://www.vlaamsparlement.be/parlementaire-documenten/schriftelijke-vragen/1761476\n",
      "Download link text: Download pdf\n",
      "Download link href: https://docs.vlaamsparlement.be/pfile?id=2006691\n"
     ]
    },
    {
     "ename": "FileNotFoundError",
     "evalue": "[Errno 2] No such file or directory: 'output_pdfs/natuur_en_milieu/ Omgevingsvergunning - Adviesverlening bij vergunningsaanvragen_1037 (2022-2023).pdf'",
     "output_type": "error",
     "traceback": [
      "\u001b[0;31m---------------------------------------------------------------------------\u001b[0m",
      "\u001b[0;31mFileNotFoundError\u001b[0m                         Traceback (most recent call last)",
      "Cell \u001b[0;32mIn[5], line 61\u001b[0m\n\u001b[1;32m     58\u001b[0m pdf_url \u001b[38;5;241m=\u001b[39m download_href\n\u001b[1;32m     59\u001b[0m response \u001b[38;5;241m=\u001b[39m requests\u001b[38;5;241m.\u001b[39mget(pdf_url)\n\u001b[0;32m---> 61\u001b[0m \u001b[38;5;28;01mwith\u001b[39;00m \u001b[38;5;28mopen\u001b[39m(\u001b[38;5;124mf\u001b[39m\u001b[38;5;124m\"\u001b[39m\u001b[38;5;124moutput_pdfs/\u001b[39m\u001b[38;5;132;01m{\u001b[39;00mTHEMA\u001b[38;5;132;01m}\u001b[39;00m\u001b[38;5;124m/\u001b[39m\u001b[38;5;132;01m{\u001b[39;00mfile_name\u001b[38;5;132;01m}\u001b[39;00m\u001b[38;5;124m.pdf\u001b[39m\u001b[38;5;124m\"\u001b[39m, \u001b[38;5;124m\"\u001b[39m\u001b[38;5;124mwb\u001b[39m\u001b[38;5;124m\"\u001b[39m) \u001b[38;5;28;01mas\u001b[39;00m file:\n\u001b[1;32m     62\u001b[0m     file\u001b[38;5;241m.\u001b[39mwrite(response\u001b[38;5;241m.\u001b[39mcontent)\n\u001b[1;32m     64\u001b[0m \u001b[38;5;28mprint\u001b[39m(\u001b[38;5;124mf\u001b[39m\u001b[38;5;124m\"\u001b[39m\u001b[38;5;124mDownloaded \u001b[39m\u001b[38;5;132;01m{\u001b[39;00mfile_name\u001b[38;5;132;01m}\u001b[39;00m\u001b[38;5;124m.pdf\u001b[39m\u001b[38;5;124m\"\u001b[39m)\n",
      "File \u001b[0;32m~/anaconda3/lib/python3.11/site-packages/IPython/core/interactiveshell.py:286\u001b[0m, in \u001b[0;36m_modified_open\u001b[0;34m(file, *args, **kwargs)\u001b[0m\n\u001b[1;32m    279\u001b[0m \u001b[38;5;28;01mif\u001b[39;00m file \u001b[38;5;129;01min\u001b[39;00m {\u001b[38;5;241m0\u001b[39m, \u001b[38;5;241m1\u001b[39m, \u001b[38;5;241m2\u001b[39m}:\n\u001b[1;32m    280\u001b[0m     \u001b[38;5;28;01mraise\u001b[39;00m \u001b[38;5;167;01mValueError\u001b[39;00m(\n\u001b[1;32m    281\u001b[0m         \u001b[38;5;124mf\u001b[39m\u001b[38;5;124m\"\u001b[39m\u001b[38;5;124mIPython won\u001b[39m\u001b[38;5;124m'\u001b[39m\u001b[38;5;124mt let you open fd=\u001b[39m\u001b[38;5;132;01m{\u001b[39;00mfile\u001b[38;5;132;01m}\u001b[39;00m\u001b[38;5;124m by default \u001b[39m\u001b[38;5;124m\"\u001b[39m\n\u001b[1;32m    282\u001b[0m         \u001b[38;5;124m\"\u001b[39m\u001b[38;5;124mas it is likely to crash IPython. If you know what you are doing, \u001b[39m\u001b[38;5;124m\"\u001b[39m\n\u001b[1;32m    283\u001b[0m         \u001b[38;5;124m\"\u001b[39m\u001b[38;5;124myou can use builtins\u001b[39m\u001b[38;5;124m'\u001b[39m\u001b[38;5;124m open.\u001b[39m\u001b[38;5;124m\"\u001b[39m\n\u001b[1;32m    284\u001b[0m     )\n\u001b[0;32m--> 286\u001b[0m \u001b[38;5;28;01mreturn\u001b[39;00m io_open(file, \u001b[38;5;241m*\u001b[39margs, \u001b[38;5;241m*\u001b[39m\u001b[38;5;241m*\u001b[39mkwargs)\n",
      "\u001b[0;31mFileNotFoundError\u001b[0m: [Errno 2] No such file or directory: 'output_pdfs/natuur_en_milieu/ Omgevingsvergunning - Adviesverlening bij vergunningsaanvragen_1037 (2022-2023).pdf'"
     ]
    }
   ],
   "source": [
    "AMOUNT_OF_PAGES = 12 # Here I manually found from the search engine that there are 12 pages on the URL\n",
    "\n",
    "for page_number in range(0,AMOUNT_OF_PAGES): \n",
    "    request_URL = f\"https://www.vlaamsparlement.be/ajax/document-overview?page={page_number}&period=current_year_of_office&current_year_of_office_value=2022-2023&aggregaat%5B%5D=Vraag%20of%20interpellatie&aggregaattype%5B%5D=Schriftelijke%20vraag&thema%5B%5D=Natuur%20en%20Milieu\"\n",
    "    #request_URL = f\"https://www.vlaamsparlement.be/ajax/document-overview?page={page_number}&period=current_year_of_office&current_year_of_office_value={CURRENT_YEAR_OF_OFFICE_VALUE}&aggregaat%5B%5D=Vraag%20of%20interpellatie&aggregaattype%5B%5D=Schriftelijke%20vraag&thema%5B%5D={THEMA_QUERY}\"\n",
    "    #request_URL = CUSTOM_LINK\n",
    "    headers = {'Accept': 'application/json'}\n",
    "    response = requests.get(request_URL, headers=headers)\n",
    "\n",
    "    json_content = response.json()\n",
    "    html_content = json_content['html']\n",
    "\n",
    "    soup = BeautifulSoup(html_content, 'html.parser')\n",
    "\n",
    "    # Find all articles with class \"card card--document\"\n",
    "    articles = soup.find_all('article', class_='card card--document')\n",
    "    i = 0\n",
    "    # Loop through each article\n",
    "    for article in articles:\n",
    "        i += 1 \n",
    "        # Extract the card title\n",
    "        card_title = article.find('h3', class_='card__title').get_text()\n",
    "        \n",
    "        # Extract the document number\n",
    "        doc_number = article.find('span', class_='card__document-number').get_text()\n",
    "        \n",
    "        # Find the link with class \"card__link card__link-view\"\n",
    "        view_link = article.find('li', class_='card__link card__link-view')\n",
    "        # Find the link with class \"card__link card__link-download\"\n",
    "        download_link = article.find('li', class_='card__link card__link-download')\n",
    "        \n",
    "        # Extract the text and href attribute from the view link, if it exists        \n",
    "        if view_link:\n",
    "            view_text = view_link.get_text()\n",
    "            view_href = view_link.find('a')['href']\n",
    "        else:\n",
    "            view_text, view_href = '', ''\n",
    "        \n",
    "        # Extract the text and href attribute from the download link, if it exists\n",
    "        if download_link:\n",
    "            download_text = download_link.get_text()\n",
    "            download_href = download_link.find('a')['href']\n",
    "        else:\n",
    "            download_text, download_href = '', ''\n",
    "        \n",
    "        # Print the extracted information\n",
    "        print('Card title:', card_title)\n",
    "        print('Document number:', doc_number)\n",
    "        print('View link text:', view_text)\n",
    "        print('View link href:', view_href)\n",
    "        print('Download link text:', download_text)\n",
    "        print('Download link href:', download_href)\n",
    "\n",
    "        card_title = card_title.replace(\"/\", \"_\") #otherwise it will try to find a folder\n",
    "        file_name = f\"{card_title}_{doc_number}\"\n",
    "\n",
    "        # Download the pdf and save it to a file\n",
    "        pdf_url = download_href\n",
    "        response = requests.get(pdf_url)\n",
    "\n",
    "        with open(f\"output_pdfs/{THEMA}/{file_name}.pdf\", \"wb\") as file:\n",
    "            file.write(response.content)\n",
    "\n",
    "        print(f\"Downloaded {file_name}.pdf\")\n",
    "        print(f\"Handeled Page {page_number} Article # {i}\")"
   ]
  },
  {
   "cell_type": "code",
   "execution_count": null,
   "id": "0b2a08e0",
   "metadata": {},
   "outputs": [],
   "source": []
  }
 ],
 "metadata": {
  "kernelspec": {
   "display_name": "Python 3 (ipykernel)",
   "language": "python",
   "name": "python3"
  },
  "language_info": {
   "codemirror_mode": {
    "name": "ipython",
    "version": 3
   },
   "file_extension": ".py",
   "mimetype": "text/x-python",
   "name": "python",
   "nbconvert_exporter": "python",
   "pygments_lexer": "ipython3",
   "version": "3.11.5"
  }
 },
 "nbformat": 4,
 "nbformat_minor": 5
}
